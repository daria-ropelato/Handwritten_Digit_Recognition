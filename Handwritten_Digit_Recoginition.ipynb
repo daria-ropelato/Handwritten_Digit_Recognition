{
 "cells": [
  {
   "cell_type": "code",
   "execution_count": null,
   "metadata": {},
   "outputs": [],
   "source": [
    "import os\n",
    "os.chdir('/Users/dariaropelato/GitHub/Sunglasses_TryOn/')"
   ]
  },
  {
   "cell_type": "code",
   "execution_count": 3,
   "metadata": {},
   "outputs": [],
   "source": [
    "import os\n",
    "import cv2\n",
    "import numpy as np\n",
    "import matplotlib.pyplot as plt"
   ]
  },
  {
   "cell_type": "code",
   "execution_count": 2,
   "metadata": {},
   "outputs": [],
   "source": [
    "import tensorflow as tf"
   ]
  },
  {
   "cell_type": "code",
   "execution_count": null,
   "metadata": {},
   "outputs": [],
   "source": [
    "\n",
    "\n",
    "train_new = True\n",
    "\n",
    "if train_new:\n",
    "\n",
    "    # Loading the MNIST data set with samples and splitting it\n",
    "    mnist = tf.keras.datasets.mnist\n",
    "    (X_train, y_train), (X_test, y_test) = mnist.load_data()\n",
    "\n",
    "    # Normalizing the data (making length = 1)\n",
    "    X_train = tf.keras.utils.normalize(X_train, axis=1)\n",
    "    X_test = tf.keras.utils.normalize(X_test, axis=1)\n",
    "\n",
    "    # Create a neural network model\n",
    "    # Add one flattened input layer for the pixels\n",
    "    # Add two dense hidden layers\n",
    "    # Add one dense output layer for the 10 digits\n",
    "    model = tf.keras.models.Sequential()\n",
    "    model.add(tf.keras.layers.Flatten())\n",
    "    #model.add(tf.keras.layers.Dense(units=64, activation=tf.nn.relu))\n",
    "    model.add(tf.keras.layers.Dense(units=128, activation=tf.nn.relu))\n",
    "    model.add(tf.keras.layers.Dense(units=128, activation=tf.nn.relu))\n",
    "    model.add(tf.keras.layers.Dense(units=128, activation=tf.nn.relu))\n",
    "    model.add(tf.keras.layers.Dense(units=128, activation=tf.nn.relu))\n",
    "    model.add(tf.keras.layers.Dense(units=10, activation=tf.nn.softmax))\n",
    "\n",
    "    # Compiling and optimizing model\n",
    "    model.compile(optimizer='adam', loss='sparse_categorical_crossentropy', metrics=['accuracy'])\n",
    "\n",
    "    # Training the model\n",
    "    model.fit(X_train, y_train, epochs=2)\n",
    "\n",
    "    # Evaluating the model\n",
    "    val_loss, val_acc = model.evaluate(X_test, y_test)\n",
    "    print(val_loss)\n",
    "    print(val_acc)\n",
    "\n",
    "    #print evaluation\n",
    "    from prettytable import PrettyTable\n",
    "    t = PrettyTable(['Parameter', 'Value'])\n",
    "    t.add_row(['Loss', val_loss])\n",
    "    t.add_row(['Accuracy', val_acc])\n",
    "    print(t)\n",
    "\n",
    "    # Confusion matrix\n",
    "    #from sklearn.metrics import confusion_matrix\n",
    "    #from sklearn.metrics import precision_score, recall_score, f1_score\n",
    "    #confusion_matrix(y_train[:10000], y_test)\n",
    "    #precision = precision_score(y_train[:10000], y_test)\n",
    "    #recall = recall_score(y_train[:10000], y_test)\n",
    "    #f1score = f1_score(y_train[:10000], y_test)\n",
    "\n",
    "    # Saving the model\n",
    "    model.save('./handwritten_digits.model')\n",
    "\n",
    "# Load the model\n",
    "model = tf.keras.models.load_model('./handwritten_digits.model')"
   ]
  }
 ],
 "metadata": {
  "kernelspec": {
   "display_name": "Python 3 (ipykernel)",
   "language": "python",
   "name": "python3"
  },
  "language_info": {
   "codemirror_mode": {
    "name": "ipython",
    "version": 3
   },
   "file_extension": ".py",
   "mimetype": "text/x-python",
   "name": "python",
   "nbconvert_exporter": "python",
   "pygments_lexer": "ipython3",
   "version": "3.10.11"
  }
 },
 "nbformat": 4,
 "nbformat_minor": 2
}
